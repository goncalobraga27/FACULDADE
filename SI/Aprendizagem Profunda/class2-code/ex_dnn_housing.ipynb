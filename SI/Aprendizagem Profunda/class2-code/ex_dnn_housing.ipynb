{
 "cells": [
  {
   "cell_type": "markdown",
   "metadata": {},
   "source": [
    "### Example of DNNs in regression - Housing dataset"
   ]
  },
  {
   "cell_type": "markdown",
   "metadata": {},
   "source": [
    "Loading data"
   ]
  },
  {
   "cell_type": "code",
   "execution_count": 1,
   "metadata": {},
   "outputs": [
    {
     "name": "stdout",
     "output_type": "stream",
     "text": [
      "Downloading data from https://storage.googleapis.com/tensorflow/tf-keras-datasets/boston_housing.npz\n",
      "57026/57026 [==============================] - 0s 2us/step\n",
      "(404, 13)\n",
      "(102, 13)\n",
      "50.0 5.0\n"
     ]
    }
   ],
   "source": [
    "from tensorflow.keras.datasets import boston_housing\n",
    "(train_data, train_targets), (test_data, test_targets) = boston_housing.load_data()\n",
    "\n",
    "print(train_data.shape)\n",
    "print(test_data.shape)\n",
    "print(max(train_targets), min(train_targets))"
   ]
  },
  {
   "cell_type": "markdown",
   "metadata": {},
   "source": [
    "Standardizing data"
   ]
  },
  {
   "cell_type": "code",
   "execution_count": 2,
   "metadata": {},
   "outputs": [],
   "source": [
    "mean = train_data.mean(axis=0)\n",
    "train_data -= mean\n",
    "std = train_data.std(axis=0)\n",
    "train_data /= std\n",
    "test_data -= mean\n",
    "test_data /= std"
   ]
  },
  {
   "cell_type": "markdown",
   "metadata": {},
   "source": [
    "Building the model (deine function to enable more flexibility in tests)"
   ]
  },
  {
   "cell_type": "code",
   "execution_count": 3,
   "metadata": {},
   "outputs": [],
   "source": [
    "from tensorflow.keras import models\n",
    "from tensorflow.keras import layers\n",
    "\n",
    "def build_model(hidden = 64):\n",
    "    model = models.Sequential()\n",
    "    model.add(layers.Dense(hidden, activation='relu',\n",
    "                            input_shape=(train_data.shape[1],)))\n",
    "    model.add(layers.Dense(hidden, activation='relu'))\n",
    "    model.add(layers.Dense(1))\n",
    "    model.compile(optimizer='rmsprop', loss='mse', metrics=['mae'])\n",
    "    return model"
   ]
  },
  {
   "cell_type": "code",
   "execution_count": 4,
   "metadata": {},
   "outputs": [
    {
     "name": "stderr",
     "output_type": "stream",
     "text": [
      "2024-02-21 17:00:22.926329: I metal_plugin/src/device/metal_device.cc:1154] Metal device set to: Apple M2\n",
      "2024-02-21 17:00:22.926353: I metal_plugin/src/device/metal_device.cc:296] systemMemory: 8.00 GB\n",
      "2024-02-21 17:00:22.926360: I metal_plugin/src/device/metal_device.cc:313] maxCacheSize: 2.67 GB\n",
      "2024-02-21 17:00:22.926971: I tensorflow/core/common_runtime/pluggable_device/pluggable_device_factory.cc:303] Could not identify NUMA node of platform GPU ID 0, defaulting to 0. Your kernel may not have been built with NUMA support.\n",
      "2024-02-21 17:00:22.927444: I tensorflow/core/common_runtime/pluggable_device/pluggable_device_factory.cc:269] Created TensorFlow device (/job:localhost/replica:0/task:0/device:GPU:0 with 0 MB memory) -> physical PluggableDevice (device: 0, name: METAL, pci bus id: <undefined>)\n"
     ]
    },
    {
     "name": "stdout",
     "output_type": "stream",
     "text": [
      "Epoch 1/80\n"
     ]
    },
    {
     "name": "stderr",
     "output_type": "stream",
     "text": [
      "2024-02-21 17:00:23.495304: I tensorflow/core/grappler/optimizers/custom_graph_optimizer_registry.cc:114] Plugin optimizer for device_type GPU is enabled.\n"
     ]
    },
    {
     "name": "stdout",
     "output_type": "stream",
     "text": [
      "26/26 [==============================] - 2s 53ms/step - loss: 562.2321 - mae: 22.0913\n",
      "Epoch 2/80\n",
      "26/26 [==============================] - 0s 10ms/step - loss: 523.7892 - mae: 21.5851\n",
      "Epoch 3/80\n",
      "26/26 [==============================] - 0s 10ms/step - loss: 497.8592 - mae: 21.1221\n",
      "Epoch 4/80\n",
      "26/26 [==============================] - 0s 10ms/step - loss: 473.6342 - mae: 20.5058\n",
      "Epoch 5/80\n",
      "26/26 [==============================] - 0s 11ms/step - loss: 459.3235 - mae: 20.0476\n",
      "Epoch 6/80\n",
      "26/26 [==============================] - 0s 11ms/step - loss: 427.7131 - mae: 19.3648\n",
      "Epoch 7/80\n",
      "26/26 [==============================] - 0s 10ms/step - loss: 400.7655 - mae: 18.7790\n",
      "Epoch 8/80\n",
      "26/26 [==============================] - 0s 10ms/step - loss: 375.0630 - mae: 18.0477\n",
      "Epoch 9/80\n",
      "26/26 [==============================] - 0s 10ms/step - loss: 338.0024 - mae: 16.9243\n",
      "Epoch 10/80\n",
      "26/26 [==============================] - 0s 10ms/step - loss: 323.9745 - mae: 16.5464\n",
      "Epoch 11/80\n",
      "26/26 [==============================] - 0s 10ms/step - loss: 295.2006 - mae: 15.6133\n",
      "Epoch 12/80\n",
      "26/26 [==============================] - 0s 10ms/step - loss: 268.8305 - mae: 14.7089\n",
      "Epoch 13/80\n",
      "26/26 [==============================] - 0s 10ms/step - loss: 241.0383 - mae: 13.6976\n",
      "Epoch 14/80\n",
      "26/26 [==============================] - 0s 10ms/step - loss: 217.8416 - mae: 12.9318\n",
      "Epoch 15/80\n",
      "26/26 [==============================] - 0s 10ms/step - loss: 194.8306 - mae: 11.9157\n",
      "Epoch 16/80\n",
      "26/26 [==============================] - 0s 10ms/step - loss: 170.6549 - mae: 10.8294\n",
      "Epoch 17/80\n",
      "26/26 [==============================] - 0s 10ms/step - loss: 154.5298 - mae: 9.8762\n",
      "Epoch 18/80\n",
      "26/26 [==============================] - 0s 11ms/step - loss: 135.5188 - mae: 9.1059\n",
      "Epoch 19/80\n",
      "26/26 [==============================] - 0s 11ms/step - loss: 115.2540 - mae: 8.1345\n",
      "Epoch 20/80\n",
      "26/26 [==============================] - 0s 11ms/step - loss: 104.6176 - mae: 7.1548\n",
      "Epoch 21/80\n",
      "26/26 [==============================] - 0s 10ms/step - loss: 89.2435 - mae: 6.3995\n",
      "Epoch 22/80\n",
      "26/26 [==============================] - 0s 10ms/step - loss: 80.6686 - mae: 5.9778\n",
      "Epoch 23/80\n",
      "26/26 [==============================] - 0s 10ms/step - loss: 81.1700 - mae: 5.9009\n",
      "Epoch 24/80\n",
      "26/26 [==============================] - 0s 10ms/step - loss: 62.0649 - mae: 5.3231\n",
      "Epoch 25/80\n",
      "26/26 [==============================] - 0s 10ms/step - loss: 68.1839 - mae: 5.5177\n",
      "Epoch 26/80\n",
      "26/26 [==============================] - 0s 10ms/step - loss: 68.1052 - mae: 5.7553\n",
      "Epoch 27/80\n",
      "26/26 [==============================] - 0s 11ms/step - loss: 57.3173 - mae: 5.0417\n",
      "Epoch 28/80\n",
      "26/26 [==============================] - 0s 10ms/step - loss: 54.7529 - mae: 5.2176\n",
      "Epoch 29/80\n",
      "26/26 [==============================] - 0s 11ms/step - loss: 58.6336 - mae: 5.3694\n",
      "Epoch 30/80\n",
      "26/26 [==============================] - 0s 11ms/step - loss: 53.1847 - mae: 5.2866\n",
      "Epoch 31/80\n",
      "26/26 [==============================] - 0s 10ms/step - loss: 58.7436 - mae: 5.6014\n",
      "Epoch 32/80\n",
      "26/26 [==============================] - 0s 10ms/step - loss: 54.6759 - mae: 5.3318\n",
      "Epoch 33/80\n",
      "26/26 [==============================] - 0s 11ms/step - loss: 58.8697 - mae: 5.6043\n",
      "Epoch 34/80\n",
      "26/26 [==============================] - 0s 10ms/step - loss: 63.3039 - mae: 5.7089\n",
      "Epoch 35/80\n",
      "26/26 [==============================] - 0s 9ms/step - loss: 52.9108 - mae: 5.0963\n",
      "Epoch 36/80\n",
      "26/26 [==============================] - 0s 9ms/step - loss: 45.0925 - mae: 4.9027\n",
      "Epoch 37/80\n",
      "26/26 [==============================] - 0s 9ms/step - loss: 60.5666 - mae: 5.6342\n",
      "Epoch 38/80\n",
      "26/26 [==============================] - 0s 9ms/step - loss: 60.1507 - mae: 5.3153\n",
      "Epoch 39/80\n",
      "26/26 [==============================] - 0s 9ms/step - loss: 49.0433 - mae: 4.9207\n",
      "Epoch 40/80\n",
      "26/26 [==============================] - 0s 9ms/step - loss: 64.2273 - mae: 5.4272\n",
      "Epoch 41/80\n",
      "26/26 [==============================] - 0s 9ms/step - loss: 50.8894 - mae: 5.0422\n",
      "Epoch 42/80\n",
      "26/26 [==============================] - 0s 9ms/step - loss: 54.7186 - mae: 5.3473\n",
      "Epoch 43/80\n",
      "26/26 [==============================] - 0s 9ms/step - loss: 48.1395 - mae: 5.1168\n",
      "Epoch 44/80\n",
      "26/26 [==============================] - 0s 9ms/step - loss: 59.3975 - mae: 5.4037\n",
      "Epoch 45/80\n",
      "26/26 [==============================] - 0s 9ms/step - loss: 56.3890 - mae: 4.9791\n",
      "Epoch 46/80\n",
      "26/26 [==============================] - 0s 9ms/step - loss: 56.4867 - mae: 5.2573\n",
      "Epoch 47/80\n",
      "26/26 [==============================] - 0s 9ms/step - loss: 55.6237 - mae: 5.4640\n",
      "Epoch 48/80\n",
      "26/26 [==============================] - 0s 9ms/step - loss: 51.8492 - mae: 4.9586\n",
      "Epoch 49/80\n",
      "26/26 [==============================] - 0s 10ms/step - loss: 49.7828 - mae: 4.7041\n",
      "Epoch 50/80\n",
      "26/26 [==============================] - 0s 10ms/step - loss: 58.9226 - mae: 5.6832\n",
      "Epoch 51/80\n",
      "26/26 [==============================] - 0s 10ms/step - loss: 65.8609 - mae: 5.7073\n",
      "Epoch 52/80\n",
      "26/26 [==============================] - 0s 9ms/step - loss: 50.3172 - mae: 4.6448\n",
      "Epoch 53/80\n",
      "26/26 [==============================] - 0s 9ms/step - loss: 51.5662 - mae: 5.1713\n",
      "Epoch 54/80\n",
      "26/26 [==============================] - 0s 9ms/step - loss: 46.7195 - mae: 5.0327\n",
      "Epoch 55/80\n",
      "26/26 [==============================] - 0s 9ms/step - loss: 62.2538 - mae: 5.6133\n",
      "Epoch 56/80\n",
      "26/26 [==============================] - 0s 9ms/step - loss: 44.0083 - mae: 4.4424\n",
      "Epoch 57/80\n",
      "26/26 [==============================] - 0s 9ms/step - loss: 76.2989 - mae: 6.3815\n",
      "Epoch 58/80\n",
      "26/26 [==============================] - 0s 9ms/step - loss: 52.6017 - mae: 4.9563\n",
      "Epoch 59/80\n",
      "26/26 [==============================] - 0s 9ms/step - loss: 59.4390 - mae: 5.2617\n",
      "Epoch 60/80\n",
      "26/26 [==============================] - 0s 9ms/step - loss: 56.2205 - mae: 5.3864\n",
      "Epoch 61/80\n",
      "26/26 [==============================] - 0s 9ms/step - loss: 53.3806 - mae: 5.0372\n",
      "Epoch 62/80\n",
      "26/26 [==============================] - 0s 9ms/step - loss: 63.4705 - mae: 5.5129\n",
      "Epoch 63/80\n",
      "26/26 [==============================] - 0s 10ms/step - loss: 46.7795 - mae: 4.9616\n",
      "Epoch 64/80\n",
      "26/26 [==============================] - 0s 9ms/step - loss: 63.9417 - mae: 5.5068\n",
      "Epoch 65/80\n",
      "26/26 [==============================] - 0s 9ms/step - loss: 56.8068 - mae: 4.9625\n",
      "Epoch 66/80\n",
      "26/26 [==============================] - 0s 9ms/step - loss: 66.2125 - mae: 5.5680\n",
      "Epoch 67/80\n",
      "26/26 [==============================] - 0s 9ms/step - loss: 57.0350 - mae: 5.4582\n",
      "Epoch 68/80\n",
      "26/26 [==============================] - 0s 9ms/step - loss: 52.5051 - mae: 5.4627\n",
      "Epoch 69/80\n",
      "26/26 [==============================] - 0s 9ms/step - loss: 63.6922 - mae: 5.6764\n",
      "Epoch 70/80\n",
      "26/26 [==============================] - 0s 9ms/step - loss: 53.9425 - mae: 5.2618\n",
      "Epoch 71/80\n",
      "26/26 [==============================] - 0s 9ms/step - loss: 57.1101 - mae: 5.5050\n",
      "Epoch 72/80\n",
      "26/26 [==============================] - 0s 9ms/step - loss: 51.5778 - mae: 5.1158\n",
      "Epoch 73/80\n",
      "26/26 [==============================] - 0s 9ms/step - loss: 49.5904 - mae: 4.8765\n",
      "Epoch 74/80\n",
      "26/26 [==============================] - 0s 9ms/step - loss: 67.1875 - mae: 5.7431\n",
      "Epoch 75/80\n",
      "26/26 [==============================] - 0s 9ms/step - loss: 64.0388 - mae: 5.5897\n",
      "Epoch 76/80\n",
      "26/26 [==============================] - 0s 9ms/step - loss: 54.0650 - mae: 4.9642\n",
      "Epoch 77/80\n",
      "26/26 [==============================] - 0s 9ms/step - loss: 50.7603 - mae: 5.2150\n",
      "Epoch 78/80\n",
      "26/26 [==============================] - 0s 9ms/step - loss: 55.1077 - mae: 5.3638\n",
      "Epoch 79/80\n",
      "26/26 [==============================] - 0s 9ms/step - loss: 60.4352 - mae: 5.3585\n",
      "Epoch 80/80\n",
      "26/26 [==============================] - 0s 9ms/step - loss: 52.9404 - mae: 4.5679\n",
      "1/4 [======>.......................] - ETA: 0s - loss: 22.0012 - mae: 4.2141"
     ]
    },
    {
     "name": "stderr",
     "output_type": "stream",
     "text": [
      "2024-02-21 17:00:45.863601: I tensorflow/core/grappler/optimizers/custom_graph_optimizer_registry.cc:114] Plugin optimizer for device_type GPU is enabled.\n"
     ]
    },
    {
     "name": "stdout",
     "output_type": "stream",
     "text": [
      "4/4 [==============================] - 1s 191ms/step - loss: 26.2949 - mae: 4.2410\n",
      "26.294906616210938 4.240991592407227\n"
     ]
    }
   ],
   "source": [
    "model = build_model()\n",
    "model.fit(train_data, train_targets, epochs=80, batch_size=16, verbose=1)\n",
    "\n",
    "test_mse_score, test_mae_score = model.evaluate(test_data, test_targets)\n",
    "print(test_mse_score, test_mae_score)"
   ]
  },
  {
   "cell_type": "code",
   "execution_count": 5,
   "metadata": {},
   "outputs": [
    {
     "name": "stdout",
     "output_type": "stream",
     "text": [
      "processing fold # 0\n"
     ]
    },
    {
     "name": "stderr",
     "output_type": "stream",
     "text": [
      "2024-02-21 17:00:46.754246: I tensorflow/core/grappler/optimizers/custom_graph_optimizer_registry.cc:114] Plugin optimizer for device_type GPU is enabled.\n",
      "2024-02-21 17:04:43.713669: I tensorflow/core/grappler/optimizers/custom_graph_optimizer_registry.cc:114] Plugin optimizer for device_type GPU is enabled.\n"
     ]
    },
    {
     "name": "stdout",
     "output_type": "stream",
     "text": [
      "processing fold # 1\n",
      "processing fold # 2\n",
      "processing fold # 3\n",
      "processing fold # 4\n",
      "[3.6398773193359375, 4.735353946685791, 3.5560965538024902, 4.670096397399902, 12.230127334594727]\n",
      "5.766310310363769\n"
     ]
    }
   ],
   "source": [
    "import numpy as np\n",
    "k = 5\n",
    "num_val_samples = len(train_data) // k \n",
    "num_epochs = 100\n",
    "all_scores = []\n",
    "model = build_model()\n",
    "for i in range(k):\n",
    "    print('processing fold #', i)\n",
    "    val_data = train_data[i*num_val_samples: (i+1)*num_val_samples]\n",
    "    val_targets = train_targets[i*num_val_samples: (i+1)*num_val_samples]\n",
    "    partial_train_data = np.concatenate( [train_data[:i*num_val_samples], train_data[(i+1)*num_val_samples:]], axis=0)\n",
    "    partial_train_targets = np.concatenate( [train_targets[:i*num_val_samples], train_targets[(i+1)*num_val_samples:]], axis=0)\n",
    "    model.fit(partial_train_data, partial_train_targets, epochs=num_epochs, batch_size=1, verbose=0)\n",
    "    val_mse, val_mae = model.evaluate(val_data, val_targets, verbose=0)\n",
    "    all_scores.append(val_mae)\n",
    "print(all_scores)\n",
    "print(np.mean(all_scores))"
   ]
  },
  {
   "cell_type": "code",
   "execution_count": null,
   "metadata": {},
   "outputs": [],
   "source": []
  }
 ],
 "metadata": {
  "kernelspec": {
   "display_name": "Python 3 (ipykernel)",
   "language": "python",
   "name": "python3"
  },
  "language_info": {
   "codemirror_mode": {
    "name": "ipython",
    "version": 3
   },
   "file_extension": ".py",
   "mimetype": "text/x-python",
   "name": "python",
   "nbconvert_exporter": "python",
   "pygments_lexer": "ipython3",
   "version": "3.10.13"
  }
 },
 "nbformat": 4,
 "nbformat_minor": 4
}
