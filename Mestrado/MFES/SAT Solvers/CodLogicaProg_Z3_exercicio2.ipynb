{
  "cells": [
    {
      "cell_type": "code",
      "execution_count": 1,
      "metadata": {
        "id": "ORObLn3pQvMu"
      },
      "outputs": [
        {
          "name": "stdout",
          "output_type": "stream",
          "text": [
            "Defaulting to user installation because normal site-packages is not writeable\n",
            "Requirement already satisfied: z3-solver in /home/goncalo/.local/lib/python3.10/site-packages (4.12.2.0)\n",
            "Note: you may need to restart the kernel to use updated packages.\n"
          ]
        }
      ],
      "source": [
        "%pip install z3-solver"
      ]
    },
    {
      "cell_type": "markdown",
      "metadata": {
        "id": "7Z8m6Ro68eVV"
      },
      "source": [
        "# Codificação lógica de um programa\n",
        "Considere o seguinte programa C sobre inteiros.\n",
        "\n",
        "```\n",
        "z = 0;\n",
        "x = x + y;\n",
        "if (y >= 0) {\n",
        "  y = x - y;\n",
        "  x = x - y;\n",
        "}\n",
        "else {\n",
        "  z = x - y;\n",
        "  x = y;\n",
        "  y = 0;\n",
        "}\n",
        "z = x + y + z;\n",
        "```\n",
        "Faça a codificação lógica deste programa.\n"
      ]
    },
    {
      "cell_type": "markdown",
      "metadata": {
        "id": "DNNuJaPq-_AC"
      },
      "source": [
        "Conversão para SA(single-assignment form):\n",
        "z1 = 0;\n",
        "x1 = x0 + y0;\n",
        "if (y0 >= 0){\n",
        "    y1 = x1 - y0;\n",
        "    x2 = x1 - y1;\n",
        "}\n",
        "else {\n",
        "    z2 = x1 - y0;\n",
        "    x2 = y0;\n",
        "    y1 = 0;\n",
        "}\n",
        "x3 = y0 >= 0 ? x2 : x2;\n",
        "y2 = y0 >= 0 ? x1 : z1;\n",
        "z3 = y0 >= 0 ? z1 : x0;\n",
        "\n",
        "z4 = x3 + y2 + z3;"
      ]
    },
    {
      "cell_type": "markdown",
      "metadata": {
        "id": "zA3bg5GPTzFN"
      },
      "source": [
        "Conversão para CNF(conditional normal form):\n",
        "z1 = 0;\n",
        "x1 = x0 + y0;\n",
        "if(y0 >= 0) y1 = x1 - y0;x2 = x1 - y1;\n",
        "if(!(y0 >= 0)) z2 = x1 - y0;x2 = y0;y1 = 0;\n",
        "x3 = y0 >= 0 ? x2 : x2;\n",
        "y2 = y0 >= 0 ? x1 : z1;\n",
        "z3 = y0 >= 0 ? z1 : x0;\n",
        "\n",
        "z4 = x3 + y2 + z3;"
      ]
    },
    {
      "cell_type": "markdown",
      "metadata": {
        "id": "K__p81HYVCVm"
      },
      "source": [
        "Codificação lógica do programa em Z3:"
      ]
    },
    {
      "cell_type": "code",
      "execution_count": 33,
      "metadata": {
        "id": "8BrW0UFYQjaL"
      },
      "outputs": [
        {
          "name": "stdout",
          "output_type": "stream",
          "text": [
            "Ok.\n"
          ]
        }
      ],
      "source": [
        "from z3 import *\n",
        "\n",
        "Z1,X1,X0,Y0,Y1,X2,Z2,Z4,X3,Y2,Z3 = Ints('Z1 X1 X0 Y0 Y1 X2 Z2 Z4 X3 Y2 Z3')\n",
        "# Criação do Solver\n",
        "s = Solver()\n",
        "# Restrição à programa \n",
        "s.add(Z1 == 0)\n",
        "s.add(X1 == X0 + Y0)\n",
        "\n",
        "s.add(Implies(Y0 >= 0,Y1 == X1 - Y0))\n",
        "s.add(Implies(Y0 >= 0,X2 == X1 - Y1))\n",
        "\n",
        "s.add(Implies(Not(Y0 >= 0),Z2 == X1-Y0))\n",
        "s.add(Implies(Not(Y0 >= 0),X2 == Y0))\n",
        "s.add(Implies(Not(Y0 >= 0),Y1 == 0))\n",
        "\n",
        "\n",
        "\n",
        "s.add(Implies(Y0 >= 0,X3 == X2))\n",
        "s.add(Implies(Not(Y0 >= 0),X3 == X2))\n",
        "\n",
        "s.add(Implies(Y0 >= 0,Y2 == X1))\n",
        "s.add(Implies(Not(Y0 >= 0),Y2 == Z1))\n",
        "\n",
        "s.add(Implies(Y0 >=0, Z3 == Z1))\n",
        "s.add(Implies(Not(Y0 >= 0),Z3 == X0))\n",
        "\n",
        "\n",
        "s.add(Z4 == X3 + Y2 + Z3)\n",
        "\n",
        "\n",
        "if s.check() == sat :\n",
        "    print(\"Ok.\")\n",
        "else:\n",
        "    print(\"A codificação não deve estar bem.\")"
      ]
    },
    {
      "cell_type": "markdown",
      "metadata": {
        "id": "lAjmUo9s-pWt"
      },
      "source": [
        "Tendo por base a codificação lógica que fez do programa, utilize o API do Z3 para Python para se pronunciar quanto à veracidade das seguintes afirmações. Justifique a sua resposta. No caso da afirmação ser falsa, apresente o contra-exemplo indicado pelo solver.\n",
        "\n",
        "   1. *Se o valor inicial de $y$ for positivo, o programa faz a troca dos valores de $x$ e $y$ entre si.*\n",
        "\n",
        "   2. *O valor final de $y$ nunca é negativo.*\n",
        "   \n",
        "   3. *O valor final de $z$ corresponde à soma dos valores de entrada de $x$ e $y$.*\n",
        "\n",
        "   4. *O valor final de x é sempre negativo.*"
      ]
    },
    {
      "cell_type": "code",
      "execution_count": 24,
      "metadata": {
        "id": "8684RNWJ8Wix"
      },
      "outputs": [
        {
          "name": "stdout",
          "output_type": "stream",
          "text": [
            "A afirmação é verdadeira.\n"
          ]
        }
      ],
      "source": [
        "s.push()\n",
        "\n",
        "prop = \"\\n\\\"Se o valor inicial de y for positivo, o programa faz a troca \\\n",
        "dos valores de x e y entre si.\\\"\"\n",
        "\n",
        "s.add(Not(Implies(Y0 >= 0, And(Y1 == X0, X2 == Y0))))\n",
        "if (s.check() == unsat):\n",
        "    print(\"A afirmação é verdadeira.\")\n",
        "\n",
        "else:\n",
        "    print(\"A afirmação é falsa \")\n",
        "    print(s.model())\n",
        "\n",
        "s.pop()"
      ]
    },
    {
      "cell_type": "code",
      "execution_count": 25,
      "metadata": {
        "id": "wR-0tzTdYZwH"
      },
      "outputs": [
        {
          "name": "stdout",
          "output_type": "stream",
          "text": [
            "A afirmação é falsa. \n",
            "[Z1 = 0,\n",
            " X3 = 1,\n",
            " X2 = 1,\n",
            " X1 = -1,\n",
            " Y2 = -1,\n",
            " X0 = -2,\n",
            " Z3 = 0,\n",
            " Y0 = 1,\n",
            " Y1 = -2,\n",
            " Z4 = 0]\n"
          ]
        }
      ],
      "source": [
        "s.push()\n",
        "\n",
        "prop = \"\\n\\\"O valor final de y nunca é negativo.\\\"\"\n",
        "\n",
        "s.add(Not(Y2 >= 0))\n",
        "if (s.check() == unsat):\n",
        "    print(\"A afirmação é verdadeira.\")\n",
        "    print(s.model())\n",
        "else:\n",
        "    print(\"A afirmação é falsa. \")\n",
        "    print(s.model())\n",
        "\n",
        "s.pop()"
      ]
    },
    {
      "cell_type": "code",
      "execution_count": 30,
      "metadata": {
        "id": "0XfcGtC8YaYb"
      },
      "outputs": [
        {
          "name": "stdout",
          "output_type": "stream",
          "text": [
            "A afirmação é falsa\n",
            "[Z1 = 0,\n",
            " X3 = 1,\n",
            " X2 = 1,\n",
            " X1 = -1,\n",
            " Y2 = -1,\n",
            " X0 = -2,\n",
            " Z3 = 0,\n",
            " Y0 = 1,\n",
            " Y1 = -2,\n",
            " Z4 = 0]\n"
          ]
        }
      ],
      "source": [
        "s.push()\n",
        "\n",
        "prop = \"\\n\\\"O valor final de z corresponde à soma dos valores de entrada de x e y.\\\"\"\n",
        "\n",
        "s.add (Not(Z4 == X0 + Y0))\n",
        "if (s.check() == unsat):\n",
        "    print(\"A afirmação é verdadeira\")\n",
        "else:\n",
        "    print(\"A afirmação é falsa\")\n",
        "    print(s.model())\n",
        "\n",
        "s.pop()"
      ]
    },
    {
      "cell_type": "code",
      "execution_count": 32,
      "metadata": {
        "id": "ZzfAoRWteN6_"
      },
      "outputs": [
        {
          "name": "stdout",
          "output_type": "stream",
          "text": [
            "A afirmação é falsa\n",
            "[Z1 = 0,\n",
            " X3 = 1,\n",
            " X2 = 1,\n",
            " X1 = -1,\n",
            " Y2 = -1,\n",
            " X0 = -2,\n",
            " Z3 = 0,\n",
            " Y0 = 1,\n",
            " Y1 = -2,\n",
            " Z4 = 0]\n"
          ]
        }
      ],
      "source": [
        "s.push()\n",
        "\n",
        "prop = \"\\n\\\"O valor final de x é sempre negativo.\\\"\"\n",
        "\n",
        "s.add (Not(X3 < 0))\n",
        "if (s.check() == unsat):\n",
        "    print(\"A afirmação é verdadeira \")\n",
        "else:\n",
        "    print(\"A afirmação é falsa\")\n",
        "    print(s.model())\n",
        "\n",
        "s.pop()"
      ]
    }
  ],
  "metadata": {
    "colab": {
      "provenance": []
    },
    "kernelspec": {
      "display_name": "Python 3",
      "name": "python3"
    },
    "language_info": {
      "codemirror_mode": {
        "name": "ipython",
        "version": 3
      },
      "file_extension": ".py",
      "mimetype": "text/x-python",
      "name": "python",
      "nbconvert_exporter": "python",
      "pygments_lexer": "ipython3",
      "version": "3.10.12"
    }
  },
  "nbformat": 4,
  "nbformat_minor": 0
}
