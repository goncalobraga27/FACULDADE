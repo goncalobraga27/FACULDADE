{
  "cells": [
    {
      "cell_type": "markdown",
      "metadata": {
        "id": "AJCJN2XV4A78"
      },
      "source": [
        "# Cryptarithms\n",
        "\n",
        "O Cryptarithms é um jogo que consiste numa equação matemática entre números desconhecidos, cujos dígitos são representados por letras. Cada letra deve representar um dígito diferente e o dígito inicial de um número com vários dígitos não deve ser zero.\n",
        "\n",
        "Queremos saber os dígitos a que correspondem as letras envolvidas na seguinte equação:\n",
        "```\n",
        "SEND + MORE = MONEY\n",
        "```\n",
        "Podemos modelar o problema numa teoria de inteiros. Cada letra dá origem a uma variável inteira ($S$,$E$,$N$,$D$,$M$,$O$,$R$ e $Y$) e para representar a equação acima representamos cada parcela por uma expressão aritmética onde cada letra é multiplicada pelo seu “peso específico” em base 10.\n",
        "\n",
        "Resolva o problema usando o Z3."
      ]
    },
    {
      "cell_type": "code",
      "execution_count": 9,
      "metadata": {
        "id": "z7fYAg3m6DmP"
      },
      "outputs": [
        {
          "name": "stdout",
          "output_type": "stream",
          "text": [
            "Defaulting to user installation because normal site-packages is not writeable\n",
            "Requirement already satisfied: z3-solver in /home/goncalo/.local/lib/python3.10/site-packages (4.12.2.0)\n"
          ]
        }
      ],
      "source": [
        "! pip install z3-solver"
      ]
    },
    {
      "cell_type": "code",
      "execution_count": 10,
      "metadata": {
        "id": "8mMmr6-f3lXc"
      },
      "outputs": [
        {
          "name": "stdout",
          "output_type": "stream",
          "text": [
            "N = 6\n",
            "M = 1\n",
            "E = 5\n",
            "Y = 2\n",
            "S = 9\n",
            "R = 8\n",
            "O = 0\n",
            "D = 7\n"
          ]
        }
      ],
      "source": [
        "from z3 import *\n",
        "\n",
        "S, E, N, D, M, O, R, Y = Ints('S E N D M O R Y')\n",
        "\n",
        "s = Solver()\n",
        "\n",
        "# Restrições do problema \n",
        "# o dígito inicial de um número com vários dígitos não deve ser zero.\n",
        "s.add ( S != 0)\n",
        "s.add ( M != 0)\n",
        "\n",
        "# Cada letra deve representar um dígito\n",
        "for l in [S,E,N,D,M,O,R,Y]:\n",
        "    s.add( l>=0 , l<=9 )\n",
        "\n",
        "#  Cada letra deve representar um dígito diferente\n",
        "s.add(Distinct(S,E,N,D,M,O,R,Y))\n",
        "\n",
        "#Escreva diretamente a equação, representado cada parcela por uma expressão aritmética onde cada letra é multiplicada pelo seu “peso específico” em base 10.\n",
        "s.add((S*1000+E*100+N*10+D)+(M*1000+O*100+R*10+E)== M*10000+O*1000+N*100+E*10+Y)\n",
        "\n",
        "if s.check() == sat :\n",
        "    m = s.model()\n",
        "    # print(m)\n",
        "    for d in m.decls():\n",
        "        print(\"%s = %d\" % (d.name(), m[d].as_long()))\n",
        "else:\n",
        "    print(\"Não tem solução.\")"
      ]
    },
    {
      "cell_type": "markdown",
      "metadata": {
        "id": "y9MXAXCWFjzV"
      },
      "source": [
        "Mostrar todas as soluções possíveis. Quantas são?"
      ]
    },
    {
      "cell_type": "code",
      "execution_count": 11,
      "metadata": {
        "id": "yUiCBMwSEbiY"
      },
      "outputs": [
        {
          "name": "stdout",
          "output_type": "stream",
          "text": [
            "São possiveís fazer 1 combinações \n",
            "As soluções possíveis são: [7 == D, 9 == S, 0 == O, 1 == M, 5 == E, 2 == Y, 8 == R, 6 == N]\n"
          ]
        }
      ],
      "source": [
        "s.push()\n",
        "i = 0\n",
        "\n",
        "while s.check() == sat:\n",
        "    m = s.model()\n",
        "    lista = []\n",
        "    resultado = []\n",
        "    for var in m:\n",
        "        resultado.append(var() == m[var])\n",
        "        lista.append(var() != m[var])\n",
        "    s.add(Or(lista))\n",
        "    i += 1\n",
        "\n",
        "print(\"São possiveís fazer %d combinações \" %i)\n",
        "print(\"As soluções possíveis são: \" + str(resultado))\n",
        "\n",
        "s.pop()"
      ]
    }
  ],
  "metadata": {
    "colab": {
      "provenance": []
    },
    "kernelspec": {
      "display_name": "Python 3",
      "name": "python3"
    },
    "language_info": {
      "codemirror_mode": {
        "name": "ipython",
        "version": 3
      },
      "file_extension": ".py",
      "mimetype": "text/x-python",
      "name": "python",
      "nbconvert_exporter": "python",
      "pygments_lexer": "ipython3",
      "version": "3.10.12"
    }
  },
  "nbformat": 4,
  "nbformat_minor": 0
}
