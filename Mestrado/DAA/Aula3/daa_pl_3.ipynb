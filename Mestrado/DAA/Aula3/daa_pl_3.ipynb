{
 "cells": [
  {
   "cell_type": "markdown",
   "metadata": {},
   "source": [
    "## Sentiment Dataset"
   ]
  },
  {
   "cell_type": "code",
   "execution_count": 1,
   "metadata": {},
   "outputs": [],
   "source": [
    "import sklearn as skl\n",
    "import pandas as pd\n",
    "import matplotlib.pyplot as plt\n",
    "import seaborn as sns\n",
    "from sklearn import preprocessing"
   ]
  },
  {
   "cell_type": "markdown",
   "metadata": {},
   "source": [
    "*Load the CSV*"
   ]
  },
  {
   "cell_type": "code",
   "execution_count": 5,
   "metadata": {},
   "outputs": [],
   "source": [
    "'''\n",
    "Load CSV\n",
    "'''\n",
    "df = pd.read_csv('sentiment_analysis.csv')"
   ]
  },
  {
   "cell_type": "markdown",
   "metadata": {},
   "source": [
    "**1. Understand the data**\n",
    "\n",
    "* .columns\n",
    "* .head()\n",
    "* .tail()\n",
    "* .shape\n",
    "*.dtypes\n",
    "* .info()\n",
    "* .describe()\n",
    "* .isna()"
   ]
  },
  {
   "cell_type": "code",
   "execution_count": 16,
   "metadata": {},
   "outputs": [
    {
     "name": "stdout",
     "output_type": "stream",
     "text": [
      "Index(['CustomerKey', 'WebActivity', 'Sentiment Analysis', 'SentimentRating',\n",
      "       'MaritalStatus', 'Gender', 'EstimatedYearlyIncome', 'NumberOfContracts',\n",
      "       'Age', 'Target', 'Available401K', 'CustomerValueSegment', 'ChurnScore',\n",
      "       'CallActivity', 'Products', 'birthday'],\n",
      "      dtype='object')\n"
     ]
    }
   ],
   "source": [
    "'''\n",
    "Inspect data\n",
    "'''\n",
    "print(df.columns)\n"
   ]
  },
  {
   "cell_type": "code",
   "execution_count": 15,
   "metadata": {},
   "outputs": [
    {
     "data": {
      "text/html": [
       "<div>\n",
       "<style scoped>\n",
       "    .dataframe tbody tr th:only-of-type {\n",
       "        vertical-align: middle;\n",
       "    }\n",
       "\n",
       "    .dataframe tbody tr th {\n",
       "        vertical-align: top;\n",
       "    }\n",
       "\n",
       "    .dataframe thead th {\n",
       "        text-align: right;\n",
       "    }\n",
       "</style>\n",
       "<table border=\"1\" class=\"dataframe\">\n",
       "  <thead>\n",
       "    <tr style=\"text-align: right;\">\n",
       "      <th></th>\n",
       "      <th>CustomerKey</th>\n",
       "      <th>WebActivity</th>\n",
       "      <th>Sentiment Analysis</th>\n",
       "      <th>SentimentRating</th>\n",
       "      <th>MaritalStatus</th>\n",
       "      <th>Gender</th>\n",
       "      <th>EstimatedYearlyIncome</th>\n",
       "      <th>NumberOfContracts</th>\n",
       "      <th>Age</th>\n",
       "      <th>Target</th>\n",
       "      <th>Available401K</th>\n",
       "      <th>CustomerValueSegment</th>\n",
       "      <th>ChurnScore</th>\n",
       "      <th>CallActivity</th>\n",
       "      <th>Products</th>\n",
       "      <th>birthday</th>\n",
       "    </tr>\n",
       "  </thead>\n",
       "  <tbody>\n",
       "    <tr>\n",
       "      <th>15162</th>\n",
       "      <td>13748</td>\n",
       "      <td>0</td>\n",
       "      <td>Positive</td>\n",
       "      <td>4</td>\n",
       "      <td>M</td>\n",
       "      <td>M</td>\n",
       "      <td>80000</td>\n",
       "      <td>0</td>\n",
       "      <td>52</td>\n",
       "      <td>0</td>\n",
       "      <td>1</td>\n",
       "      <td>2</td>\n",
       "      <td>0.1</td>\n",
       "      <td>3</td>\n",
       "      <td>fund manager+</td>\n",
       "      <td>1963-12-10</td>\n",
       "    </tr>\n",
       "    <tr>\n",
       "      <th>15163</th>\n",
       "      <td>12104</td>\n",
       "      <td>1</td>\n",
       "      <td>Positive</td>\n",
       "      <td>4</td>\n",
       "      <td>M</td>\n",
       "      <td>F</td>\n",
       "      <td>70000</td>\n",
       "      <td>2</td>\n",
       "      <td>61</td>\n",
       "      <td>1</td>\n",
       "      <td>1</td>\n",
       "      <td>2</td>\n",
       "      <td>1.0</td>\n",
       "      <td>4</td>\n",
       "      <td>p+b investment</td>\n",
       "      <td>1954-11-05</td>\n",
       "    </tr>\n",
       "    <tr>\n",
       "      <th>15164</th>\n",
       "      <td>12104</td>\n",
       "      <td>1</td>\n",
       "      <td>Positive</td>\n",
       "      <td>4</td>\n",
       "      <td>M</td>\n",
       "      <td>F</td>\n",
       "      <td>70000</td>\n",
       "      <td>2</td>\n",
       "      <td>61</td>\n",
       "      <td>1</td>\n",
       "      <td>1</td>\n",
       "      <td>2</td>\n",
       "      <td>1.0</td>\n",
       "      <td>4</td>\n",
       "      <td>p+b investment</td>\n",
       "      <td>1954-12-19</td>\n",
       "    </tr>\n",
       "    <tr>\n",
       "      <th>15165</th>\n",
       "      <td>13120</td>\n",
       "      <td>5</td>\n",
       "      <td>Very Positive</td>\n",
       "      <td>5</td>\n",
       "      <td>M</td>\n",
       "      <td>M</td>\n",
       "      <td>80000</td>\n",
       "      <td>4</td>\n",
       "      <td>45</td>\n",
       "      <td>0</td>\n",
       "      <td>1</td>\n",
       "      <td>1</td>\n",
       "      <td>0.0</td>\n",
       "      <td>4</td>\n",
       "      <td>private investment</td>\n",
       "      <td>1971-03-18</td>\n",
       "    </tr>\n",
       "    <tr>\n",
       "      <th>15166</th>\n",
       "      <td>13120</td>\n",
       "      <td>5</td>\n",
       "      <td>Very Positive</td>\n",
       "      <td>5</td>\n",
       "      <td>M</td>\n",
       "      <td>M</td>\n",
       "      <td>80000</td>\n",
       "      <td>4</td>\n",
       "      <td>45</td>\n",
       "      <td>0</td>\n",
       "      <td>1</td>\n",
       "      <td>1</td>\n",
       "      <td>0.0</td>\n",
       "      <td>4</td>\n",
       "      <td>private investment</td>\n",
       "      <td>1970-06-05</td>\n",
       "    </tr>\n",
       "  </tbody>\n",
       "</table>\n",
       "</div>"
      ],
      "text/plain": [
       "       CustomerKey  WebActivity Sentiment Analysis  SentimentRating  \\\n",
       "15162        13748            0           Positive                4   \n",
       "15163        12104            1           Positive                4   \n",
       "15164        12104            1           Positive                4   \n",
       "15165        13120            5      Very Positive                5   \n",
       "15166        13120            5      Very Positive                5   \n",
       "\n",
       "      MaritalStatus Gender  EstimatedYearlyIncome  NumberOfContracts  Age  \\\n",
       "15162             M      M                  80000                  0   52   \n",
       "15163             M      F                  70000                  2   61   \n",
       "15164             M      F                  70000                  2   61   \n",
       "15165             M      M                  80000                  4   45   \n",
       "15166             M      M                  80000                  4   45   \n",
       "\n",
       "       Target  Available401K  CustomerValueSegment  ChurnScore  CallActivity  \\\n",
       "15162       0              1                     2         0.1             3   \n",
       "15163       1              1                     2         1.0             4   \n",
       "15164       1              1                     2         1.0             4   \n",
       "15165       0              1                     1         0.0             4   \n",
       "15166       0              1                     1         0.0             4   \n",
       "\n",
       "                 Products    birthday  \n",
       "15162       fund manager+  1963-12-10  \n",
       "15163      p+b investment  1954-11-05  \n",
       "15164      p+b investment  1954-12-19  \n",
       "15165  private investment  1971-03-18  \n",
       "15166  private investment  1970-06-05  "
      ]
     },
     "execution_count": 15,
     "metadata": {},
     "output_type": "execute_result"
    }
   ],
   "source": [
    "df.tail()"
   ]
  },
  {
   "cell_type": "code",
   "execution_count": 14,
   "metadata": {},
   "outputs": [
    {
     "data": {
      "text/plain": [
       "(15167, 16)"
      ]
     },
     "execution_count": 14,
     "metadata": {},
     "output_type": "execute_result"
    }
   ],
   "source": [
    "df.shape"
   ]
  },
  {
   "cell_type": "code",
   "execution_count": 13,
   "metadata": {},
   "outputs": [
    {
     "name": "stdout",
     "output_type": "stream",
     "text": [
      "<class 'pandas.core.frame.DataFrame'>\n",
      "RangeIndex: 15167 entries, 0 to 15166\n",
      "Data columns (total 16 columns):\n",
      " #   Column                 Non-Null Count  Dtype  \n",
      "---  ------                 --------------  -----  \n",
      " 0   CustomerKey            15167 non-null  int64  \n",
      " 1   WebActivity            15167 non-null  int64  \n",
      " 2   Sentiment Analysis     15167 non-null  object \n",
      " 3   SentimentRating        15167 non-null  int64  \n",
      " 4   MaritalStatus          15167 non-null  object \n",
      " 5   Gender                 15167 non-null  object \n",
      " 6   EstimatedYearlyIncome  15167 non-null  int64  \n",
      " 7   NumberOfContracts      15167 non-null  int64  \n",
      " 8   Age                    15167 non-null  int64  \n",
      " 9   Target                 15167 non-null  int64  \n",
      " 10  Available401K          15167 non-null  int64  \n",
      " 11  CustomerValueSegment   15167 non-null  int64  \n",
      " 12  ChurnScore             15167 non-null  float64\n",
      " 13  CallActivity           15167 non-null  int64  \n",
      " 14  Products               15167 non-null  object \n",
      " 15  birthday               15167 non-null  object \n",
      "dtypes: float64(1), int64(10), object(5)\n",
      "memory usage: 1.9+ MB\n"
     ]
    }
   ],
   "source": [
    "df.info()"
   ]
  },
  {
   "cell_type": "code",
   "execution_count": 12,
   "metadata": {},
   "outputs": [
    {
     "data": {
      "text/plain": [
       "CustomerKey                int64\n",
       "WebActivity                int64\n",
       "Sentiment Analysis        object\n",
       "SentimentRating            int64\n",
       "MaritalStatus             object\n",
       "Gender                    object\n",
       "EstimatedYearlyIncome      int64\n",
       "NumberOfContracts          int64\n",
       "Age                        int64\n",
       "Target                     int64\n",
       "Available401K              int64\n",
       "CustomerValueSegment       int64\n",
       "ChurnScore               float64\n",
       "CallActivity               int64\n",
       "Products                  object\n",
       "birthday                  object\n",
       "dtype: object"
      ]
     },
     "execution_count": 12,
     "metadata": {},
     "output_type": "execute_result"
    }
   ],
   "source": [
    "df.dtypes\n"
   ]
  },
  {
   "cell_type": "code",
   "execution_count": 17,
   "metadata": {},
   "outputs": [
    {
     "data": {
      "text/html": [
       "<div>\n",
       "<style scoped>\n",
       "    .dataframe tbody tr th:only-of-type {\n",
       "        vertical-align: middle;\n",
       "    }\n",
       "\n",
       "    .dataframe tbody tr th {\n",
       "        vertical-align: top;\n",
       "    }\n",
       "\n",
       "    .dataframe thead th {\n",
       "        text-align: right;\n",
       "    }\n",
       "</style>\n",
       "<table border=\"1\" class=\"dataframe\">\n",
       "  <thead>\n",
       "    <tr style=\"text-align: right;\">\n",
       "      <th></th>\n",
       "      <th>CustomerKey</th>\n",
       "      <th>WebActivity</th>\n",
       "      <th>SentimentRating</th>\n",
       "      <th>EstimatedYearlyIncome</th>\n",
       "      <th>NumberOfContracts</th>\n",
       "      <th>Age</th>\n",
       "      <th>Target</th>\n",
       "      <th>Available401K</th>\n",
       "      <th>CustomerValueSegment</th>\n",
       "      <th>ChurnScore</th>\n",
       "      <th>CallActivity</th>\n",
       "    </tr>\n",
       "  </thead>\n",
       "  <tbody>\n",
       "    <tr>\n",
       "      <th>count</th>\n",
       "      <td>15167.000000</td>\n",
       "      <td>15167.000000</td>\n",
       "      <td>15167.000000</td>\n",
       "      <td>15167.000000</td>\n",
       "      <td>15167.000000</td>\n",
       "      <td>15167.000000</td>\n",
       "      <td>15167.000000</td>\n",
       "      <td>15167.000000</td>\n",
       "      <td>15167.000000</td>\n",
       "      <td>15167.000000</td>\n",
       "      <td>15167.000000</td>\n",
       "    </tr>\n",
       "    <tr>\n",
       "      <th>mean</th>\n",
       "      <td>17559.847102</td>\n",
       "      <td>0.999473</td>\n",
       "      <td>1.850926</td>\n",
       "      <td>57718.072130</td>\n",
       "      <td>1.465484</td>\n",
       "      <td>48.203402</td>\n",
       "      <td>0.486781</td>\n",
       "      <td>0.696380</td>\n",
       "      <td>2.097251</td>\n",
       "      <td>0.268893</td>\n",
       "      <td>3.236896</td>\n",
       "    </tr>\n",
       "    <tr>\n",
       "      <th>std</th>\n",
       "      <td>5576.039383</td>\n",
       "      <td>1.519967</td>\n",
       "      <td>1.619925</td>\n",
       "      <td>32091.910319</td>\n",
       "      <td>1.144962</td>\n",
       "      <td>11.300184</td>\n",
       "      <td>0.499842</td>\n",
       "      <td>0.459836</td>\n",
       "      <td>0.688901</td>\n",
       "      <td>0.332298</td>\n",
       "      <td>1.262360</td>\n",
       "    </tr>\n",
       "    <tr>\n",
       "      <th>min</th>\n",
       "      <td>11000.000000</td>\n",
       "      <td>0.000000</td>\n",
       "      <td>0.000000</td>\n",
       "      <td>10000.000000</td>\n",
       "      <td>0.000000</td>\n",
       "      <td>29.000000</td>\n",
       "      <td>0.000000</td>\n",
       "      <td>0.000000</td>\n",
       "      <td>1.000000</td>\n",
       "      <td>0.000000</td>\n",
       "      <td>1.000000</td>\n",
       "    </tr>\n",
       "    <tr>\n",
       "      <th>25%</th>\n",
       "      <td>12256.500000</td>\n",
       "      <td>0.000000</td>\n",
       "      <td>0.000000</td>\n",
       "      <td>30000.000000</td>\n",
       "      <td>1.000000</td>\n",
       "      <td>40.000000</td>\n",
       "      <td>0.000000</td>\n",
       "      <td>0.000000</td>\n",
       "      <td>2.000000</td>\n",
       "      <td>0.000000</td>\n",
       "      <td>2.000000</td>\n",
       "    </tr>\n",
       "    <tr>\n",
       "      <th>50%</th>\n",
       "      <td>14967.000000</td>\n",
       "      <td>0.000000</td>\n",
       "      <td>2.000000</td>\n",
       "      <td>60000.000000</td>\n",
       "      <td>1.000000</td>\n",
       "      <td>46.000000</td>\n",
       "      <td>0.000000</td>\n",
       "      <td>1.000000</td>\n",
       "      <td>2.000000</td>\n",
       "      <td>0.100000</td>\n",
       "      <td>3.000000</td>\n",
       "    </tr>\n",
       "    <tr>\n",
       "      <th>75%</th>\n",
       "      <td>23045.500000</td>\n",
       "      <td>2.000000</td>\n",
       "      <td>3.000000</td>\n",
       "      <td>70000.000000</td>\n",
       "      <td>2.000000</td>\n",
       "      <td>56.000000</td>\n",
       "      <td>1.000000</td>\n",
       "      <td>1.000000</td>\n",
       "      <td>3.000000</td>\n",
       "      <td>0.500000</td>\n",
       "      <td>4.000000</td>\n",
       "    </tr>\n",
       "    <tr>\n",
       "      <th>max</th>\n",
       "      <td>27336.000000</td>\n",
       "      <td>5.000000</td>\n",
       "      <td>5.000000</td>\n",
       "      <td>170000.000000</td>\n",
       "      <td>4.000000</td>\n",
       "      <td>100.000000</td>\n",
       "      <td>1.000000</td>\n",
       "      <td>1.000000</td>\n",
       "      <td>3.000000</td>\n",
       "      <td>1.000000</td>\n",
       "      <td>5.000000</td>\n",
       "    </tr>\n",
       "  </tbody>\n",
       "</table>\n",
       "</div>"
      ],
      "text/plain": [
       "        CustomerKey   WebActivity  SentimentRating  EstimatedYearlyIncome  \\\n",
       "count  15167.000000  15167.000000     15167.000000           15167.000000   \n",
       "mean   17559.847102      0.999473         1.850926           57718.072130   \n",
       "std     5576.039383      1.519967         1.619925           32091.910319   \n",
       "min    11000.000000      0.000000         0.000000           10000.000000   \n",
       "25%    12256.500000      0.000000         0.000000           30000.000000   \n",
       "50%    14967.000000      0.000000         2.000000           60000.000000   \n",
       "75%    23045.500000      2.000000         3.000000           70000.000000   \n",
       "max    27336.000000      5.000000         5.000000          170000.000000   \n",
       "\n",
       "       NumberOfContracts           Age        Target  Available401K  \\\n",
       "count       15167.000000  15167.000000  15167.000000   15167.000000   \n",
       "mean            1.465484     48.203402      0.486781       0.696380   \n",
       "std             1.144962     11.300184      0.499842       0.459836   \n",
       "min             0.000000     29.000000      0.000000       0.000000   \n",
       "25%             1.000000     40.000000      0.000000       0.000000   \n",
       "50%             1.000000     46.000000      0.000000       1.000000   \n",
       "75%             2.000000     56.000000      1.000000       1.000000   \n",
       "max             4.000000    100.000000      1.000000       1.000000   \n",
       "\n",
       "       CustomerValueSegment    ChurnScore  CallActivity  \n",
       "count          15167.000000  15167.000000  15167.000000  \n",
       "mean               2.097251      0.268893      3.236896  \n",
       "std                0.688901      0.332298      1.262360  \n",
       "min                1.000000      0.000000      1.000000  \n",
       "25%                2.000000      0.000000      2.000000  \n",
       "50%                2.000000      0.100000      3.000000  \n",
       "75%                3.000000      0.500000      4.000000  \n",
       "max                3.000000      1.000000      5.000000  "
      ]
     },
     "execution_count": 17,
     "metadata": {},
     "output_type": "execute_result"
    }
   ],
   "source": [
    "df.describe()"
   ]
  },
  {
   "cell_type": "code",
   "execution_count": 19,
   "metadata": {},
   "outputs": [
    {
     "name": "stdout",
     "output_type": "stream",
     "text": [
      "CustomerKey              0\n",
      "WebActivity              0\n",
      "Sentiment Analysis       0\n",
      "SentimentRating          0\n",
      "MaritalStatus            0\n",
      "Gender                   0\n",
      "EstimatedYearlyIncome    0\n",
      "NumberOfContracts        0\n",
      "Age                      0\n",
      "Target                   0\n",
      "Available401K            0\n",
      "CustomerValueSegment     0\n",
      "ChurnScore               0\n",
      "CallActivity             0\n",
      "Products                 0\n",
      "birthday                 0\n",
      "dtype: int64\n"
     ]
    }
   ],
   "source": [
    "'''\n",
    "Missing data\n",
    "'''\n",
    "print(df.isna().sum())"
   ]
  },
  {
   "cell_type": "code",
   "execution_count": 20,
   "metadata": {},
   "outputs": [
    {
     "data": {
      "text/plain": [
       "CustomerKey              False\n",
       "WebActivity              False\n",
       "Sentiment Analysis       False\n",
       "SentimentRating          False\n",
       "MaritalStatus            False\n",
       "Gender                   False\n",
       "EstimatedYearlyIncome    False\n",
       "NumberOfContracts        False\n",
       "Age                      False\n",
       "Target                   False\n",
       "Available401K            False\n",
       "CustomerValueSegment     False\n",
       "ChurnScore               False\n",
       "CallActivity             False\n",
       "Products                 False\n",
       "birthday                 False\n",
       "dtype: bool"
      ]
     },
     "execution_count": 20,
     "metadata": {},
     "output_type": "execute_result"
    }
   ],
   "source": [
    "df.isna().any()"
   ]
  },
  {
   "cell_type": "markdown",
   "metadata": {},
   "source": [
    "**Find the goal**\n",
    "\n",
    "*Goal:* identify the type of wine by its properties - the target is a numeric categorical variable that covers the values of 0, 1 and 2\n",
    "\n",
    "*Modeling:* use the features of the wine to predict its type"
   ]
  },
  {
   "cell_type": "markdown",
   "metadata": {},
   "source": [
    "**2. Data preparation and transformation**\n",
    "\n",
    "- drop useless columns\n",
    "- rename columns \n",
    "- handle missing values\n",
    "- handle duplication\n",
    "- create new features"
   ]
  },
  {
   "cell_type": "markdown",
   "metadata": {},
   "source": [
    "Since all the variables appear to be physical-chemical measures, they could all be useful and help define the segmentation of the type of wine. There is no reason to remove columns"
   ]
  },
  {
   "cell_type": "code",
   "execution_count": 21,
   "metadata": {},
   "outputs": [
    {
     "name": "stdout",
     "output_type": "stream",
     "text": [
      "16\n",
      "None\n",
      "<class 'pandas.core.frame.DataFrame'>\n",
      "Index: 15151 entries, 0 to 15166\n",
      "Data columns (total 16 columns):\n",
      " #   Column                 Non-Null Count  Dtype  \n",
      "---  ------                 --------------  -----  \n",
      " 0   CustomerKey            15151 non-null  int64  \n",
      " 1   WebActivity            15151 non-null  int64  \n",
      " 2   Sentiment Analysis     15151 non-null  object \n",
      " 3   SentimentRating        15151 non-null  int64  \n",
      " 4   MaritalStatus          15151 non-null  object \n",
      " 5   Gender                 15151 non-null  object \n",
      " 6   EstimatedYearlyIncome  15151 non-null  int64  \n",
      " 7   NumberOfContracts      15151 non-null  int64  \n",
      " 8   Age                    15151 non-null  int64  \n",
      " 9   Target                 15151 non-null  int64  \n",
      " 10  Available401K          15151 non-null  int64  \n",
      " 11  CustomerValueSegment   15151 non-null  int64  \n",
      " 12  ChurnScore             15151 non-null  float64\n",
      " 13  CallActivity           15151 non-null  int64  \n",
      " 14  Products               15151 non-null  object \n",
      " 15  birthday               15151 non-null  object \n",
      "dtypes: float64(1), int64(10), object(5)\n",
      "memory usage: 2.0+ MB\n",
      "None\n"
     ]
    }
   ],
   "source": [
    "'''\n",
    "Drop Duplicates\n",
    "'''\n",
    "print(df.duplicated().sum())\n",
    "print(df.drop_duplicates(inplace=True))\n",
    "print(df.info())"
   ]
  },
  {
   "cell_type": "code",
   "execution_count": null,
   "metadata": {},
   "outputs": [],
   "source": [
    "'''\n",
    "Rename complicated columns' names\n",
    "'''  \n",
    "..."
   ]
  },
  {
   "cell_type": "code",
   "execution_count": null,
   "metadata": {},
   "outputs": [],
   "source": [
    "'''\n",
    "Remove values (Ash smaller than 2, Alcalinity bigger than 15)\n",
    "'''\n",
    "..."
   ]
  },
  {
   "cell_type": "markdown",
   "metadata": {},
   "source": [
    "**2. Univariate analysis**\n",
    "\n",
    "Iterate through each and every relevant variable and get basic information such as\n",
    "\n",
    "- .hist()\n",
    "- .value_counts()\n",
    "- .skew()\n",
    "- .kurt()"
   ]
  },
  {
   "cell_type": "code",
   "execution_count": null,
   "metadata": {},
   "outputs": [],
   "source": [
    "'''\n",
    "Categorical variables\n",
    "'''\n",
    "..."
   ]
  },
  {
   "cell_type": "code",
   "execution_count": null,
   "metadata": {},
   "outputs": [],
   "source": [
    "..."
   ]
  },
  {
   "cell_type": "code",
   "execution_count": null,
   "metadata": {},
   "outputs": [],
   "source": [
    "'''\n",
    "Numeric variables\n",
    "'''\n",
    "..."
   ]
  },
  {
   "cell_type": "code",
   "execution_count": null,
   "metadata": {},
   "outputs": [],
   "source": [
    "..."
   ]
  },
  {
   "cell_type": "markdown",
   "metadata": {},
   "source": [
    "Does not follow a normal curve and has spikes."
   ]
  },
  {
   "cell_type": "code",
   "execution_count": null,
   "metadata": {},
   "outputs": [],
   "source": [
    "..."
   ]
  },
  {
   "cell_type": "code",
   "execution_count": null,
   "metadata": {},
   "outputs": [],
   "source": [
    "..."
   ]
  },
  {
   "cell_type": "markdown",
   "metadata": {},
   "source": [
    "Kurtosis and asymmetry values are greater than 1."
   ]
  },
  {
   "cell_type": "markdown",
   "metadata": {},
   "source": [
    "*Summarize the dataset*\n",
    "\n",
    "- Variable: name of the variable\n",
    "- Type: the type or format of the variable. This can be categorical, numeric, Boolean, and so on\n",
    "- Context: useful information to understand the semantic space of the variable. In the case of our dataset, the context is always the chemical-physical one\n",
    "- Expectation: how relevant is this variable with respect to our task? We can use a scale “High, Medium, Low”.\n",
    "- Comments: whether or not we have any comments to make on the variable"
   ]
  },
  {
   "cell_type": "markdown",
   "metadata": {},
   "source": [
    "**3. Multivariate analysis**\n",
    "\n",
    "- grouping\n",
    "- bins\n",
    "- statistical dispersion: histogram, box plots, scatter plots, pair plots, correlation matrixes\n",
    "\n",
    "> scatterplots: plot 2 variables against each other and understand how they move together\n",
    "\n",
    "> pairplots: plot all variables against each other and understand how they move together"
   ]
  },
  {
   "cell_type": "code",
   "execution_count": null,
   "metadata": {},
   "outputs": [],
   "source": [
    "'''\n",
    "All variables\n",
    "'''\n",
    "..."
   ]
  },
  {
   "cell_type": "code",
   "execution_count": null,
   "metadata": {},
   "outputs": [],
   "source": [
    "'''\n",
    "Grouping\n",
    "'''\n",
    "..."
   ]
  },
  {
   "cell_type": "code",
   "execution_count": null,
   "metadata": {},
   "outputs": [],
   "source": [
    "..."
   ]
  },
  {
   "cell_type": "code",
   "execution_count": null,
   "metadata": {},
   "outputs": [],
   "source": [
    "..."
   ]
  },
  {
   "cell_type": "code",
   "execution_count": null,
   "metadata": {},
   "outputs": [],
   "source": [
    "..."
   ]
  },
  {
   "cell_type": "code",
   "execution_count": null,
   "metadata": {},
   "outputs": [],
   "source": [
    "'''\n",
    "Bins\n",
    "'''\n",
    "# https://scikit-learn.org/stable/modules/preprocessing.html#discretization\n",
    "...\n",
    "print('Bin Edges')\n",
    "...\n",
    "print('Alcohol Groups')\n",
    "print(...)"
   ]
  },
  {
   "cell_type": "code",
   "execution_count": null,
   "metadata": {},
   "outputs": [],
   "source": [
    "'''\n",
    "Statistical Dispersion\n",
    "'''\n",
    "...\n",
    "fig.suptitle('Histograms')\n",
    "\n",
    "...\n",
    "sns.distplot(df['Flavanoids'], ax=axs[0, 1], kde=True)\n",
    "...\n",
    "sns.distplot(df['Proline'], ax=axs[1, 1], kde=True)"
   ]
  },
  {
   "cell_type": "markdown",
   "metadata": {},
   "source": [
    "The best way to understand the relationship between a numeric variable and a categorical variable is through a boxplot."
   ]
  },
  {
   "cell_type": "code",
   "execution_count": null,
   "metadata": {},
   "outputs": [],
   "source": [
    "'''\n",
    "Box plots (Outliers)\n",
    "'''\n",
    "...\n",
    "plt.title(\"Boxplot for Class vs Proline\")\n",
    "..."
   ]
  },
  {
   "cell_type": "code",
   "execution_count": null,
   "metadata": {},
   "outputs": [],
   "source": [
    "...\n",
    "plt.title(\"Boxplot for Class vs Flavanoids\")\n",
    "..."
   ]
  },
  {
   "cell_type": "code",
   "execution_count": null,
   "metadata": {},
   "outputs": [],
   "source": [
    "_, ax = plt.subplots(figsize=(15, 6))\n",
    "...\n"
   ]
  },
  {
   "cell_type": "code",
   "execution_count": null,
   "metadata": {},
   "outputs": [],
   "source": [
    "...\n",
    "fig.suptitle('Boxplots for 4 variables')\n",
    "sns.boxplot(y=df['Color intensity'], ax=axs[0, 0])\n",
    "...\n",
    "sns.boxplot(y=df['Alcohol'], ax=axs[1, 1])"
   ]
  },
  {
   "cell_type": "code",
   "execution_count": null,
   "metadata": {},
   "outputs": [],
   "source": [
    "'''\n",
    "Scatter plots\n",
    "'''\n",
    "...\n",
    "plt.show()"
   ]
  },
  {
   "cell_type": "code",
   "execution_count": null,
   "metadata": {},
   "outputs": [],
   "source": [
    "'''\n",
    "Relations\n",
    "'''\n",
    "..."
   ]
  },
  {
   "cell_type": "code",
   "execution_count": null,
   "metadata": {},
   "outputs": [],
   "source": [
    "'''\n",
    "Correlation\n",
    "'''\n",
    "..."
   ]
  },
  {
   "cell_type": "markdown",
   "metadata": {},
   "source": [
    "**Critical analysis of the previous results**\n",
    "\n",
    "* Which components characterize the various types of wine?\n",
    "* Which component is the most significant?"
   ]
  },
  {
   "cell_type": "code",
   "execution_count": null,
   "metadata": {},
   "outputs": [],
   "source": []
  }
 ],
 "metadata": {
  "kernelspec": {
   "display_name": "Python 3",
   "language": "python",
   "name": "python3"
  },
  "language_info": {
   "codemirror_mode": {
    "name": "ipython",
    "version": 3
   },
   "file_extension": ".py",
   "mimetype": "text/x-python",
   "name": "python",
   "nbconvert_exporter": "python",
   "pygments_lexer": "ipython3",
   "version": "3.10.13"
  }
 },
 "nbformat": 4,
 "nbformat_minor": 4
}
